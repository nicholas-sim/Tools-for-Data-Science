{
 "cells": [
  {
   "cell_type": "markdown",
   "id": "dd16fee5",
   "metadata": {},
   "source": [
    "# Data Science Tools and Ecosystem"
   ]
  },
  {
   "cell_type": "markdown",
   "id": "305a1326",
   "metadata": {},
   "source": [
    "## Author\n",
    "Nicholas S."
   ]
  },
  {
   "cell_type": "markdown",
   "id": "345f2563",
   "metadata": {},
   "source": [
    "In this notebook, Data Science Tools and Ecosystem are summarized."
   ]
  },
  {
   "cell_type": "markdown",
   "id": "6ec9024b",
   "metadata": {},
   "source": [
    "Objectives: List popular languages for Data Science\n",
    "\n",
    "- Python\n",
    "- R\n",
    "- SQL"
   ]
  },
  {
   "cell_type": "markdown",
   "id": "ce328dc3",
   "metadata": {},
   "source": [
    "Some of the popular languages that Data Scientists use are:\n",
    "\n",
    "1. Python\n",
    "2. SQL\n",
    "3. R\n",
    "4. Julia"
   ]
  },
  {
   "cell_type": "markdown",
   "id": "f81f138b",
   "metadata": {},
   "source": [
    "Some of the commonly used libraries used by Data Scientists include:\n",
    "\n",
    "\n",
    "1. Pandas (Python)\n",
    "2. Scikit-Learn (Python)\n",
    "3. Numpy (Python)\n",
    "4. caret (R)\n",
    "5. dplyr (R)"
   ]
  },
  {
   "cell_type": "markdown",
   "id": "2c9e2615",
   "metadata": {},
   "source": [
    "|  Data Science Tool | \n",
    "|------|\n",
    "| RStudio | \n",
    "| Jupyter Notebook |\n",
    "| GitLab |"
   ]
  },
  {
   "cell_type": "markdown",
   "id": "0b4c351a",
   "metadata": {},
   "source": [
    "### Below are a few examples of evaluating arithmetic expressions in Python"
   ]
  },
  {
   "cell_type": "code",
   "execution_count": 5,
   "id": "49b64d1a",
   "metadata": {},
   "outputs": [
    {
     "data": {
      "text/plain": [
       "17"
      ]
     },
     "execution_count": 5,
     "metadata": {},
     "output_type": "execute_result"
    }
   ],
   "source": [
    "# This a simple arithmetic expression to mutiply then add integers\n",
    "(3*4)+5"
   ]
  },
  {
   "cell_type": "code",
   "execution_count": 3,
   "id": "644d5a1c",
   "metadata": {},
   "outputs": [],
   "source": [
    "# This function will convert 200 minutes to hours by diving by 60\n",
    "def min2hr(x):\n",
    "    return x/60\n",
    "\n"
   ]
  },
  {
   "cell_type": "code",
   "execution_count": 4,
   "id": "00b197f1",
   "metadata": {},
   "outputs": [
    {
     "data": {
      "text/plain": [
       "3.3333333333333335"
      ]
     },
     "execution_count": 4,
     "metadata": {},
     "output_type": "execute_result"
    }
   ],
   "source": [
    "min2hr(200)"
   ]
  },
  {
   "cell_type": "code",
   "execution_count": null,
   "id": "0841700a",
   "metadata": {},
   "outputs": [],
   "source": []
  }
 ],
 "metadata": {
  "kernelspec": {
   "display_name": "Python 3",
   "language": "python",
   "name": "python3"
  },
  "language_info": {
   "codemirror_mode": {
    "name": "ipython",
    "version": 3
   },
   "file_extension": ".py",
   "mimetype": "text/x-python",
   "name": "python",
   "nbconvert_exporter": "python",
   "pygments_lexer": "ipython3",
   "version": "3.8.8"
  }
 },
 "nbformat": 4,
 "nbformat_minor": 5
}
